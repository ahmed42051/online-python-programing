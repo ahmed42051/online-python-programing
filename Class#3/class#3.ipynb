{
 "cells": [
  {
   "cell_type": "code",
   "execution_count": 19,
   "id": "4e559cca",
   "metadata": {},
   "outputs": [
    {
     "name": "stdout",
     "output_type": "stream",
     "text": [
      "76.33333333333333\n"
     ]
    }
   ],
   "source": [
    "eng = 100\n",
    "isl = 100\n",
    "math = 100\n",
    "total = 300\n",
    "marks_in_eng = 75\n",
    "marks_in_isl = 69\n",
    "marks_in_math = 85\n",
    "percent = ( 75 + 69 + 85 )/300 * 100\n",
    "print(percent)"
   ]
  },
  {
   "cell_type": "code",
   "execution_count": 10,
   "id": "06fe88be",
   "metadata": {},
   "outputs": [
    {
     "name": "stdout",
     "output_type": "stream",
     "text": [
      "Grade A\n"
     ]
    }
   ],
   "source": [
    "percent = 76.333333;\n",
    "if percent < 100 and percent > 80:\n",
    "    print(\"Grade A+\")\n",
    "elif percent < 80 and percent > 70:\n",
    "    print(\"Grade A\")\n",
    "else:\n",
    "    print(\"fail\")"
   ]
  },
  {
   "cell_type": "code",
   "execution_count": 1,
   "id": "cce5ebd9",
   "metadata": {},
   "outputs": [
    {
     "name": "stdout",
     "output_type": "stream",
     "text": [
      "age  29\n",
      "gender female\n",
      "Name areeba\n",
      "Donot Allow\n"
     ]
    }
   ],
   "source": [
    "age = int(input(\"age \"));\n",
    "gender = input(\"gender\");\n",
    "name = input(\"Name\");\n",
    "if age > 18 and gender == \"male\":\n",
    "    print(\"Allow\");\n",
    "else:\n",
    "    print(\"Donot Allow\");"
   ]
  },
  {
   "cell_type": "code",
   "execution_count": 9,
   "id": "db49c199",
   "metadata": {},
   "outputs": [
    {
     "ename": "SyntaxError",
     "evalue": "invalid syntax (<ipython-input-9-9cf4f116e775>, line 3)",
     "output_type": "error",
     "traceback": [
      "\u001b[1;36m  File \u001b[1;32m\"<ipython-input-9-9cf4f116e775>\"\u001b[1;36m, line \u001b[1;32m3\u001b[0m\n\u001b[1;33m    3 name = [\"ali\",\"naeem\",\"bilal\"]\u001b[0m\n\u001b[1;37m      ^\u001b[0m\n\u001b[1;31mSyntaxError\u001b[0m\u001b[1;31m:\u001b[0m invalid syntax\n"
     ]
    }
   ],
   "source": [
    "1 # list\n",
    "2\n",
    "3 name = [\"ali\",\"naeem\",\"bilal\"]\n",
    "4 print(name)"
   ]
  },
  {
   "cell_type": "code",
   "execution_count": 5,
   "id": "457f4310",
   "metadata": {},
   "outputs": [
    {
     "name": "stdout",
     "output_type": "stream",
     "text": [
      "['lions', 12, True, 4, 59]\n"
     ]
    }
   ],
   "source": [
    "arr = [\"lions\",12,True,4,59]\n",
    "print(arr)   "
   ]
  },
  {
   "cell_type": "code",
   "execution_count": 8,
   "id": "798c57cc",
   "metadata": {},
   "outputs": [
    {
     "data": {
      "text/plain": [
       "<function print>"
      ]
     },
     "execution_count": 8,
     "metadata": {},
     "output_type": "execute_result"
    }
   ],
   "source": [
    "# list\n",
    "\n",
    "name = [\"ali\",\"naeem\",\"bilal\"]\n",
    "print"
   ]
  },
  {
   "cell_type": "code",
   "execution_count": 10,
   "id": "ebdca980",
   "metadata": {},
   "outputs": [
    {
     "name": "stdout",
     "output_type": "stream",
     "text": [
      "['ali', 'naeem', 'bilal', 'lions', 12, True, 4, 59]\n"
     ]
    }
   ],
   "source": [
    "newList = name + arr;\n",
    "print(newList);"
   ]
  },
  {
   "cell_type": "code",
   "execution_count": 11,
   "id": "ded67340",
   "metadata": {},
   "outputs": [
    {
     "name": "stdout",
     "output_type": "stream",
     "text": [
      "None\n"
     ]
    }
   ],
   "source": [
    "name = name.insert(3,\"ali\")\n",
    "print(name)"
   ]
  },
  {
   "cell_type": "code",
   "execution_count": 12,
   "id": "f57d8646",
   "metadata": {},
   "outputs": [
    {
     "name": "stdout",
     "output_type": "stream",
     "text": [
      "['lions', 12, 'RAZA', True, 4, 59]\n"
     ]
    }
   ],
   "source": [
    "arr.insert(2,\"RAZA\")\n",
    "print(arr)"
   ]
  },
  {
   "cell_type": "code",
   "execution_count": 13,
   "id": "aa97850c",
   "metadata": {},
   "outputs": [
    {
     "name": "stdout",
     "output_type": "stream",
     "text": [
      "['lions', 'ali', 12, 'RAZA', True, 4, 59]\n"
     ]
    }
   ],
   "source": [
    "arr.insert(1,\"ali\")\n",
    "print(arr)"
   ]
  },
  {
   "cell_type": "code",
   "execution_count": 14,
   "id": "66fd4ea9",
   "metadata": {},
   "outputs": [
    {
     "name": "stdout",
     "output_type": "stream",
     "text": [
      "['RAZA', 'lions', 'ali', 12, 'RAZA', True, 4, 59]\n"
     ]
    }
   ],
   "source": [
    "arr.insert(0,\"RAZA\")\n",
    "print(arr)"
   ]
  },
  {
   "cell_type": "code",
   "execution_count": 15,
   "id": "09bf2a33",
   "metadata": {},
   "outputs": [
    {
     "name": "stdout",
     "output_type": "stream",
     "text": [
      "['ali', 12]\n"
     ]
    }
   ],
   "source": [
    "arr2 = arr[2:4]\n",
    "print(arr2)"
   ]
  },
  {
   "cell_type": "code",
   "execution_count": 16,
   "id": "4568e930",
   "metadata": {},
   "outputs": [
    {
     "data": {
      "text/plain": [
       "['RAZA', 'lions', 'ali', 12, 'RAZA', True, 4, 59]"
      ]
     },
     "execution_count": 16,
     "metadata": {},
     "output_type": "execute_result"
    }
   ],
   "source": [
    "arr"
   ]
  },
  {
   "cell_type": "code",
   "execution_count": 17,
   "id": "31f11ca5",
   "metadata": {},
   "outputs": [
    {
     "name": "stdout",
     "output_type": "stream",
     "text": [
      "['RAZA', 'lions', 'ali']\n"
     ]
    }
   ],
   "source": [
    "arr4 = arr[:3]\n",
    "print(arr4)"
   ]
  },
  {
   "cell_type": "code",
   "execution_count": 18,
   "id": "a7ab8a7c",
   "metadata": {},
   "outputs": [
    {
     "data": {
      "text/plain": [
       "['RAZA', 'lions', 'ali', 12, 'RAZA', True, 4, 59]"
      ]
     },
     "execution_count": 18,
     "metadata": {},
     "output_type": "execute_result"
    }
   ],
   "source": [
    "arr"
   ]
  },
  {
   "cell_type": "code",
   "execution_count": 19,
   "id": "e861f8a4",
   "metadata": {},
   "outputs": [
    {
     "name": "stdout",
     "output_type": "stream",
     "text": [
      "['RAZA', 'lions', 12, 'RAZA', True, 4, 59]\n"
     ]
    }
   ],
   "source": [
    "del arr[2]\n",
    "print(arr)"
   ]
  },
  {
   "cell_type": "code",
   "execution_count": 20,
   "id": "75420b7a",
   "metadata": {},
   "outputs": [
    {
     "name": "stdout",
     "output_type": "stream",
     "text": [
      "['RAZA', 'lions', 12, True, 4, 59]\n"
     ]
    }
   ],
   "source": [
    "del arr[3]\n",
    "print(arr)"
   ]
  },
  {
   "cell_type": "code",
   "execution_count": 21,
   "id": "8a5788b1",
   "metadata": {},
   "outputs": [
    {
     "name": "stdout",
     "output_type": "stream",
     "text": [
      "['RAZA', 'lions', True, 4, 59]\n"
     ]
    }
   ],
   "source": [
    "arr.remove(12);\n",
    "print(arr);"
   ]
  },
  {
   "cell_type": "code",
   "execution_count": null,
   "id": "0121d882",
   "metadata": {},
   "outputs": [],
   "source": []
  }
 ],
 "metadata": {
  "kernelspec": {
   "display_name": "Python 3",
   "language": "python",
   "name": "python3"
  },
  "language_info": {
   "codemirror_mode": {
    "name": "ipython",
    "version": 3
   },
   "file_extension": ".py",
   "mimetype": "text/x-python",
   "name": "python",
   "nbconvert_exporter": "python",
   "pygments_lexer": "ipython3",
   "version": "3.8.8"
  }
 },
 "nbformat": 4,
 "nbformat_minor": 5
}
