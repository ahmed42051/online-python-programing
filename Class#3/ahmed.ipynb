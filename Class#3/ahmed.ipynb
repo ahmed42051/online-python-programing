{
 "cells": [
  {
   "cell_type": "code",
   "execution_count": 6,
   "id": "c66f644d",
   "metadata": {},
   "outputs": [
    {
     "name": "stdout",
     "output_type": "stream",
     "text": [
      "hello ahmed ali shah\n"
     ]
    }
   ],
   "source": [
    " print(\"hello ahmed ali shah\");"
   ]
  },
  {
   "cell_type": "code",
   "execution_count": 7,
   "id": "46573ede",
   "metadata": {},
   "outputs": [
    {
     "name": "stdout",
     "output_type": "stream",
     "text": [
      "15\n"
     ]
    }
   ],
   "source": [
    "a = 5;\n",
    "b = 10;\n",
    "c = a + b;\n",
    "print(c)"
   ]
  },
  {
   "cell_type": "code",
   "execution_count": 9,
   "id": "9681a9a4",
   "metadata": {},
   "outputs": [
    {
     "name": "stdout",
     "output_type": "stream",
     "text": [
      "ahmed naeem\n"
     ]
    }
   ],
   "source": [
    "x = \"ahmed\";\n",
    "y = \" naeem\";\n",
    "z = x + y;\n",
    "print(z);"
   ]
  },
  {
   "cell_type": "code",
   "execution_count": 14,
   "id": "edd7ff2a",
   "metadata": {},
   "outputs": [
    {
     "name": "stdout",
     "output_type": "stream",
     "text": [
      "612\n"
     ]
    }
   ],
   "source": [
    "f = \"6\";\n",
    "g = \"12\";\n",
    "h = f+g;\n",
    "print(h);"
   ]
  },
  {
   "cell_type": "code",
   "execution_count": 17,
   "id": "fb835acb",
   "metadata": {},
   "outputs": [
    {
     "ename": "TypeError",
     "evalue": "can only concatenate str (not \"int\") to str",
     "output_type": "error",
     "traceback": [
      "\u001b[1;31m---------------------------------------------------------------------------\u001b[0m",
      "\u001b[1;31mTypeError\u001b[0m                                 Traceback (most recent call last)",
      "\u001b[1;32m<ipython-input-17-a2be7da5a93a>\u001b[0m in \u001b[0;36m<module>\u001b[1;34m\u001b[0m\n\u001b[0;32m      1\u001b[0m \u001b[0mi\u001b[0m \u001b[1;33m=\u001b[0m \u001b[1;34m\"20\"\u001b[0m\u001b[1;33m;\u001b[0m\u001b[1;33m\u001b[0m\u001b[1;33m\u001b[0m\u001b[0m\n\u001b[0;32m      2\u001b[0m \u001b[0mj\u001b[0m \u001b[1;33m=\u001b[0m \u001b[1;36m40\u001b[0m\u001b[1;33m;\u001b[0m\u001b[1;33m\u001b[0m\u001b[1;33m\u001b[0m\u001b[0m\n\u001b[1;32m----> 3\u001b[1;33m \u001b[0mk\u001b[0m \u001b[1;33m=\u001b[0m \u001b[0mi\u001b[0m \u001b[1;33m+\u001b[0m \u001b[0mj\u001b[0m\u001b[1;33m;\u001b[0m\u001b[1;33m\u001b[0m\u001b[1;33m\u001b[0m\u001b[0m\n\u001b[0m\u001b[0;32m      4\u001b[0m \u001b[0mprint\u001b[0m\u001b[1;33m(\u001b[0m\u001b[0mk\u001b[0m\u001b[1;33m)\u001b[0m\u001b[1;33m;\u001b[0m\u001b[1;33m\u001b[0m\u001b[1;33m\u001b[0m\u001b[0m\n",
      "\u001b[1;31mTypeError\u001b[0m: can only concatenate str (not \"int\") to str"
     ]
    }
   ],
   "source": [
    "i = \"20\";\n",
    "j = 40;\n",
    "k = i + j;\n",
    "print(k);"
   ]
  },
  {
   "cell_type": "code",
   "execution_count": 18,
   "id": "4841d85b",
   "metadata": {},
   "outputs": [
    {
     "name": "stdout",
     "output_type": "stream",
     "text": [
      "16\n"
     ]
    }
   ],
   "source": [
    "l = 9;\n",
    "m = l + 14;\n",
    "n = m - l + 2\n",
    "print(n);"
   ]
  },
  {
   "cell_type": "code",
   "execution_count": 24,
   "id": "a81610ce",
   "metadata": {},
   "outputs": [
    {
     "name": "stdout",
     "output_type": "stream",
     "text": [
      "55.0\n"
     ]
    }
   ],
   "source": [
    "a = 12 -  4 / 2 + 9* 5;\n",
    "print(a);"
   ]
  },
  {
   "cell_type": "code",
   "execution_count": 27,
   "id": "243dceef",
   "metadata": {},
   "outputs": [
    {
     "name": "stdout",
     "output_type": "stream",
     "text": [
      "3.6363636363636367\n"
     ]
    }
   ],
   "source": [
    "a = ((12 -  4) / (2 + 9) * 5);\n",
    "print(a);"
   ]
  },
  {
   "cell_type": "code",
   "execution_count": 30,
   "id": "1ccc82dd",
   "metadata": {},
   "outputs": [
    {
     "name": "stdout",
     "output_type": "stream",
     "text": [
      "1\n"
     ]
    }
   ],
   "source": [
    "x = 10\n",
    "y = x%3;\n",
    "print(y);"
   ]
  },
  {
   "cell_type": "code",
   "execution_count": 31,
   "id": "23d96326",
   "metadata": {},
   "outputs": [
    {
     "name": "stdout",
     "output_type": "stream",
     "text": [
      "12\n"
     ]
    }
   ],
   "source": [
    "f = 10;\n",
    "f = 12;\n",
    "print(f);"
   ]
  },
  {
   "cell_type": "code",
   "execution_count": 32,
   "id": "2e42a32a",
   "metadata": {},
   "outputs": [
    {
     "name": "stdout",
     "output_type": "stream",
     "text": [
      "7\n"
     ]
    }
   ],
   "source": [
    "g = 5\n",
    "g = g +2\n",
    "print(g);"
   ]
  },
  {
   "cell_type": "code",
   "execution_count": 33,
   "id": "06f0bc9e",
   "metadata": {},
   "outputs": [
    {
     "name": "stdout",
     "output_type": "stream",
     "text": [
      "6\n"
     ]
    }
   ],
   "source": [
    "a =3;\n",
    "a+=3;\n",
    "print(a);"
   ]
  },
  {
   "cell_type": "code",
   "execution_count": 2,
   "id": "daa35060",
   "metadata": {},
   "outputs": [
    {
     "name": "stdout",
     "output_type": "stream",
     "text": [
      "His name is hussain ibe ali\n"
     ]
    }
   ],
   "source": [
    "a = \"hussain ibe ali\"\n",
    "print(\"His name is \" + a)"
   ]
  },
  {
   "cell_type": "code",
   "execution_count": 39,
   "id": "f9dd7593",
   "metadata": {},
   "outputs": [
    {
     "name": "stdout",
     "output_type": "stream",
     "text": [
      "Allow for Ride\n"
     ]
    }
   ],
   "source": [
    "gender = \"male\"\n",
    "if gender ==\"male\":\n",
    "    print(\"Allow for Ride\");"
   ]
  },
  {
   "cell_type": "code",
   "execution_count": 42,
   "id": "b017b073",
   "metadata": {},
   "outputs": [
    {
     "name": "stdout",
     "output_type": "stream",
     "text": [
      "Allow for Ride\n"
     ]
    }
   ],
   "source": [
    "gender = \"male\"\n",
    "if gender ==\"male\":\n",
    "    print(\"Allow for Ride\");\n",
    "else:\n",
    "    print(\"Rok loe\");"
   ]
  },
  {
   "cell_type": "code",
   "execution_count": 44,
   "id": "1ba1632e",
   "metadata": {},
   "outputs": [
    {
     "name": "stdout",
     "output_type": "stream",
     "text": [
      "Allow for Ride\n"
     ]
    }
   ],
   "source": [
    "gender = \"female\"\n",
    "if gender !=\"male\":\n",
    "    print(\"Allow for Ride\");\n",
    "else:\n",
    "    print(\"Rok loe\");"
   ]
  },
  {
   "cell_type": "code",
   "execution_count": 50,
   "id": "89e1ee0d",
   "metadata": {},
   "outputs": [
    {
     "name": "stdout",
     "output_type": "stream",
     "text": [
      "Rok loe\n"
     ]
    }
   ],
   "source": [
    "age = 14;\n",
    "gender= \"female\";\n",
    "if age > 18 or gender == \"male\":\n",
    "    print(\"Allow for Ride\");\n",
    "else:\n",
    "    print(\"Rok loe\");\n",
    "\n"
   ]
  },
  {
   "cell_type": "code",
   "execution_count": 51,
   "id": "a47475f7",
   "metadata": {},
   "outputs": [
    {
     "name": "stdout",
     "output_type": "stream",
     "text": [
      "Allow for Ride\n"
     ]
    }
   ],
   "source": [
    "age = 14;\n",
    "gender= \"female\";\n",
    "if age > 10 or gender == \"male\":\n",
    "    print(\"Allow for Ride\");\n",
    "else:\n",
    "    print(\"Rok loe\");\n",
    "\n"
   ]
  },
  {
   "cell_type": "code",
   "execution_count": 1,
   "id": "b90c5457",
   "metadata": {},
   "outputs": [
    {
     "name": "stdout",
     "output_type": "stream",
     "text": [
      "faile\n"
     ]
    }
   ],
   "source": [
    "percent = 67;\n",
    "if percent < 100 and percent > 80:\n",
    "    print(\"grade A+\");\n",
    "elif percent < 80 and percent > 70:\n",
    "    print(\"grade A\");\n",
    "else:\n",
    "    print(\"faile\")\n",
    "\n",
    "    \n"
   ]
  },
  {
   "cell_type": "code",
   "execution_count": 5,
   "id": "3f003b8f",
   "metadata": {},
   "outputs": [
    {
     "name": "stdout",
     "output_type": "stream",
     "text": [
      "faile\n"
     ]
    }
   ],
   "source": [
    "percent = 80;\n",
    "if percent < 100 and percent > 80:\n",
    "    print(\"grade A+\");\n",
    "elif percent < 79 and percent > 70:\n",
    "    print(\"grade A\");\n",
    "else:\n",
    "    print(\"faile\")"
   ]
  },
  {
   "cell_type": "code",
   "execution_count": 16,
   "id": "e8e67398",
   "metadata": {},
   "outputs": [
    {
     "name": "stdout",
     "output_type": "stream",
     "text": [
      "obtain marks: 249.5 /300\n",
      " your Percentage: 83 %\n",
      "Grade A+\n"
     ]
    }
   ],
   "source": [
    "eng = 89.5\n",
    "isl = 80\n",
    "math = 80\n",
    "total_marks = 300\n",
    "total= eng + isl + math\n",
    "print(\"obtain marks:\",total,\"/300\")\n",
    "\n",
    "percent = total/300 * 100\n",
    "percentage = round(percent);\n",
    "if percent < 100 and percent > 0:\n",
    "    print(\" your Percentage:\",percentage, \"%\")\n",
    "else:\n",
    "    print(\"check your marks\")\n",
    "    \n",
    "if percent <=100 and percent >=80:\n",
    "    print(\"Grade A+\")\n",
    "elif percent <=79 and percent >=70:\n",
    "    print(\"Grade A\")\n",
    "elif percent <=69 and percent >=60:\n",
    "    print(\"Grade B\")\n",
    "elif percent <=59 and percent >=50:\n",
    "    print(\"Garde c\")    \n",
    "elif percent <=49 and percent >=40:\n",
    "    print(\"Garde D\")  \n",
    "elif percent <=39 and percent >=0:\n",
    "    print(\"fail\")"
   ]
  },
  {
   "cell_type": "code",
   "execution_count": 18,
   "id": "8037d453",
   "metadata": {},
   "outputs": [
    {
     "name": "stdout",
     "output_type": "stream",
     "text": [
      "Enter English Marks91\n",
      "Enter Islamiat Marks75\n",
      "Enter Maths Marks96\n",
      "obtain marks: 917596 /300\n"
     ]
    },
    {
     "ename": "TypeError",
     "evalue": "unsupported operand type(s) for /: 'str' and 'int'",
     "output_type": "error",
     "traceback": [
      "\u001b[1;31m---------------------------------------------------------------------------\u001b[0m",
      "\u001b[1;31mTypeError\u001b[0m                                 Traceback (most recent call last)",
      "\u001b[1;32m<ipython-input-18-b6d60d15c2f7>\u001b[0m in \u001b[0;36m<module>\u001b[1;34m\u001b[0m\n\u001b[0;32m      6\u001b[0m \u001b[0mprint\u001b[0m\u001b[1;33m(\u001b[0m\u001b[1;34m\"obtain marks:\"\u001b[0m\u001b[1;33m,\u001b[0m\u001b[0mtotal\u001b[0m\u001b[1;33m,\u001b[0m\u001b[1;34m\"/300\"\u001b[0m\u001b[1;33m)\u001b[0m\u001b[1;33m\u001b[0m\u001b[1;33m\u001b[0m\u001b[0m\n\u001b[0;32m      7\u001b[0m \u001b[1;33m\u001b[0m\u001b[0m\n\u001b[1;32m----> 8\u001b[1;33m \u001b[0mpercent\u001b[0m \u001b[1;33m=\u001b[0m \u001b[0mtotal\u001b[0m\u001b[1;33m/\u001b[0m\u001b[1;36m300\u001b[0m \u001b[1;33m*\u001b[0m \u001b[1;36m100\u001b[0m\u001b[1;33m\u001b[0m\u001b[1;33m\u001b[0m\u001b[0m\n\u001b[0m\u001b[0;32m      9\u001b[0m \u001b[0mpercentage\u001b[0m \u001b[1;33m=\u001b[0m \u001b[0mround\u001b[0m\u001b[1;33m(\u001b[0m\u001b[0mpercent\u001b[0m\u001b[1;33m)\u001b[0m\u001b[1;33m;\u001b[0m\u001b[1;33m\u001b[0m\u001b[1;33m\u001b[0m\u001b[0m\n\u001b[0;32m     10\u001b[0m \u001b[1;32mif\u001b[0m \u001b[0mpercent\u001b[0m \u001b[1;33m<\u001b[0m \u001b[1;36m100\u001b[0m \u001b[1;32mand\u001b[0m \u001b[0mpercent\u001b[0m \u001b[1;33m>\u001b[0m \u001b[1;36m0\u001b[0m\u001b[1;33m:\u001b[0m\u001b[1;33m\u001b[0m\u001b[1;33m\u001b[0m\u001b[0m\n",
      "\u001b[1;31mTypeError\u001b[0m: unsupported operand type(s) for /: 'str' and 'int'"
     ]
    }
   ],
   "source": [
    "eng = input(\"Enter English Marks\")\n",
    "isl = input(\"Enter Islamiat Marks\")\n",
    "math = input(\"Enter Maths Marks\")\n",
    "total_marks = 300\n",
    "total= eng + isl + math\n",
    "print(\"obtain marks:\",total,\"/300\")\n",
    "\n",
    "percent = total/300 * 100\n",
    "percentage = round(percent);\n",
    "if percent < 100 and percent > 0:\n",
    "    print(\" your Percentage:\",percentage, \"%\")\n",
    "else:\n",
    "    print(\"check your marks\")\n",
    "    \n",
    "if percent <=100 and percent >=80:\n",
    "    print(\"Grade A+\")\n",
    "elif percent <=79 and percent >=70:\n",
    "    print(\"Grade A\")\n",
    "elif percent <=69 and percent >=60:\n",
    "    print(\"Grade B\")\n",
    "elif percent <=59 and percent >=50:\n",
    "    print(\"Garde c\")    \n",
    "elif percent <=49 and percent >=40:\n",
    "    print(\"Garde D\")  \n",
    "elif percent <=39 and percent >=0:\n",
    "    print(\"fail\")\n",
    "    "
   ]
  },
  {
   "cell_type": "code",
   "execution_count": 21,
   "id": "117dbb32",
   "metadata": {},
   "outputs": [
    {
     "name": "stdout",
     "output_type": "stream",
     "text": [
      "Enter English Marks79\n",
      "Enter Islamiat Marks69\n",
      "Enter Maths Marks56\n",
      "204\n"
     ]
    }
   ],
   "source": [
    "eng = int(input(\"Enter English Marks\"));\n",
    "isl = int(input(\"Enter Islamiat Marks\"));\n",
    "maths =int(input(\"Enter Maths Marks\"));\n",
    "total = eng + isl + maths\n",
    "print(total);"
   ]
  },
  {
   "cell_type": "code",
   "execution_count": 22,
   "id": "79386e14",
   "metadata": {},
   "outputs": [
    {
     "name": "stdout",
     "output_type": "stream",
     "text": [
      "Enter English Marks12\n",
      "Enter Islamiat Marks36\n",
      "Enter Maths Marks64\n",
      "112\n"
     ]
    }
   ],
   "source": [
    "eng = (\"Enter English Marks\");\n",
    "isl = (\"Enter Islamiat Marks\");\n",
    "maths =(\"Enter Maths Marks\");\n",
    "total = int(input(\"Enter English Marks\")) + int(input(\"Enter Islamiat Marks\")) + int(input(\"Enter Maths Marks\"))\n",
    "print(total);"
   ]
  },
  {
   "cell_type": "code",
   "execution_count": 28,
   "id": "2d6540ca",
   "metadata": {},
   "outputs": [
    {
     "name": "stdout",
     "output_type": "stream",
     "text": [
      "25\n",
      "64\n",
      "HELLO \n",
      " WORLD\n"
     ]
    }
   ],
   "source": [
    "x = 5**2 \n",
    "print(x);\n",
    "y = 4**3\n",
    "print(y);\n",
    "print(\"HELLO \\n WORLD\");"
   ]
  },
  {
   "cell_type": "code",
   "execution_count": 32,
   "id": "5c65745b",
   "metadata": {},
   "outputs": [
    {
     "name": "stdout",
     "output_type": "stream",
     "text": [
      "HELLO\n",
      "WORLD\n"
     ]
    }
   ],
   "source": [
    "print(\"HELLO\\nWORLD\");"
   ]
  },
  {
   "cell_type": "code",
   "execution_count": 5,
   "id": "e8323103",
   "metadata": {},
   "outputs": [
    {
     "name": "stdout",
     "output_type": "stream",
     "text": [
      "True\n"
     ]
    }
   ],
   "source": [
    "x = 10;\n",
    "y =12;\n",
    "z = 8;\n",
    "a = 30;\n",
    "b = 8;\n",
    "if x+y == a-b:\n",
    "    print(True);\n",
    "else:\n",
    "    print(False);\n",
    "        "
   ]
  },
  {
   "cell_type": "code",
   "execution_count": null,
   "id": "3dca8896",
   "metadata": {},
   "outputs": [],
   "source": [
    "age = int(input(\"Enter age\"));\n",
    "gender = input(\"Enter gender\");\n",
    "name = input(\"Name Studient\");\n",
    "if age > 18 and gender == \"male\":\n",
    "    print(\"Allow\");\n",
    "else:\n",
    "    print(\"Donot Allow\");\n",
    "    "
   ]
  },
  {
   "cell_type": "code",
   "execution_count": 2,
   "id": "8df340df",
   "metadata": {},
   "outputs": [
    {
     "name": "stdout",
     "output_type": "stream",
     "text": [
      "Enter age29\n",
      "Enter gendermale\n",
      "Allow\n"
     ]
    }
   ],
   "source": [
    "age = int(input(\"Enter age\"));\n",
    "gender = input(\"Enter gender\");\n",
    "if age > 18 and gender == \"male\":\n",
    "    print(\"Allow\");\n",
    "else:\n",
    "    print(\"Donot Allow\");"
   ]
  },
  {
   "cell_type": "code",
   "execution_count": 4,
   "id": "30607696",
   "metadata": {},
   "outputs": [
    {
     "name": "stdout",
     "output_type": "stream",
     "text": [
      "Enter age23\n",
      "Enter genderfemale\n",
      "Name Studient sana\n",
      "Allow\n"
     ]
    }
   ],
   "source": [
    "age = int(input(\"Enter age\"));\n",
    "gender = input(\"Enter gender\");\n",
    "name = input(\"Name Studient\");\n",
    "if age > 18 or gender == \"male\":\n",
    "    print(\"Allow\");\n",
    "else:\n",
    "    print(\"Donot Allow\");"
   ]
  },
  {
   "cell_type": "code",
   "execution_count": 8,
   "id": "bcdd6051",
   "metadata": {},
   "outputs": [
    {
     "name": "stdout",
     "output_type": "stream",
     "text": [
      "Time  5\n",
      "weight 650\n",
      "try to recruit him\n"
     ]
    }
   ],
   "source": [
    "time = int(input(\"Time\"));\n",
    "weight = int(input(\"weight\"));\n",
    "if weight > 300 and time < 6:\n",
    "    print(\"try to recruit him\");"
   ]
  },
  {
   "cell_type": "code",
   "execution_count": 7,
   "id": "701b984f",
   "metadata": {},
   "outputs": [
    {
     "name": "stdout",
     "output_type": "stream",
     "text": [
      "e = f\n"
     ]
    }
   ],
   "source": [
    "c = 35;\n",
    "d = 30;\n",
    "a = 2;\n",
    "b = 1\n",
    "x = 1;\n",
    "y = 1;\n",
    "if (x == y or a == b) and c==d:\n",
    "    print(\"g = h\");\n",
    "else:\n",
    "    print(\"e = f\");\n"
   ]
  },
  {
   "cell_type": "code",
   "execution_count": 18,
   "id": "64891fc8",
   "metadata": {},
   "outputs": [
    {
     "name": "stdout",
     "output_type": "stream",
     "text": [
      "[112, 6]\n"
     ]
    }
   ],
   "source": [
    "# learning list \n",
    "\n",
    "arr = [112,6];\n",
    "print(arr)"
   ]
  },
  {
   "cell_type": "code",
   "execution_count": 20,
   "id": "41078a70",
   "metadata": {},
   "outputs": [
    {
     "name": "stdout",
     "output_type": "stream",
     "text": [
      "Hello ali\n"
     ]
    }
   ],
   "source": [
    "\"\"\"donot try to over handsome\n",
    "beacuse you look like fool in this behaviour\"\"\"\n",
    "print(\"Hello ali\");"
   ]
  },
  {
   "cell_type": "markdown",
   "id": "45383baa",
   "metadata": {},
   "source": [
    "# name1 = \"ali\"\n",
    "name2 =\"naeem\"\n",
    "name3 = \"bilal\"\n",
    "name4 = \"sadaf\"\n",
    "name5 = \"sana\"\n",
    "print(name1+\",\"+name2+\",\"+name3+\",\"+name4+\",\"+name5)"
   ]
  },
  {
   "cell_type": "code",
   "execution_count": 33,
   "id": "bfd87d8d",
   "metadata": {},
   "outputs": [
    {
     "ename": "SyntaxError",
     "evalue": "invalid syntax (<ipython-input-33-62cad0dea4d9>, line 3)",
     "output_type": "error",
     "traceback": [
      "\u001b[1;36m  File \u001b[1;32m\"<ipython-input-33-62cad0dea4d9>\"\u001b[1;36m, line \u001b[1;32m3\u001b[0m\n\u001b[1;33m    3  name = [\"ali\",\"naeem\",\"bilal\",\"sadaf\",\"sana\"];\u001b[0m\n\u001b[1;37m       ^\u001b[0m\n\u001b[1;31mSyntaxError\u001b[0m\u001b[1;31m:\u001b[0m invalid syntax\n"
     ]
    }
   ],
   "source": [
    "1  # list\n",
    "2\n",
    "3  name = [\"ali\",\"naeem\",\"bilal\",\"sadaf\",\"sana\"];\n",
    "4  print(name)"
   ]
  },
  {
   "cell_type": "markdown",
   "id": "b8e2533a",
   "metadata": {},
   "source": [
    "1 # list\n",
    "2\n",
    "3  name = [\"ali\",\"naeem\",\"bilal\",\"sadaf\",\"sana\"];\n",
    "4  print(name)\n",
    "2\n",
    "3\n",
    "4\n",
    "5\n",
    "\n"
   ]
  },
  {
   "cell_type": "code",
   "execution_count": 4,
   "id": "f0afd88a",
   "metadata": {},
   "outputs": [],
   "source": [
    "weight = 300\n",
    "time = 5\n",
    "hight = 70\n",
    "age = 16\n",
    "if weight >= 300 and time <= 6 and hight >= 70 and age >= 17:\n",
    "    print(\"recruit him\")"
   ]
  },
  {
   "cell_type": "code",
   "execution_count": null,
   "id": "42da8861",
   "metadata": {},
   "outputs": [],
   "source": [
    "circle are: A = πr² "
   ]
  },
  {
   "cell_type": "code",
   "execution_count": 1,
   "id": "b554da47",
   "metadata": {},
   "outputs": [
    {
     "name": "stdout",
     "output_type": "stream",
     "text": [
      "Enter the radius of the circle::\n",
      "\n",
      "12\n",
      "Diameter       =  24.0 units\n",
      "Circumference  =  75.39822368615503 units\n",
      "Area           =  452.3893421169302  sq. units\n"
     ]
    }
   ],
   "source": [
    "# Python program to find diameter, circumference, and area of a circle\n",
    "\n",
    "# Import math Library\n",
    "import math\n",
    "\n",
    "print(\"Enter the radius of the circle::\\n\")\n",
    "\n",
    "r, d, c, a = float(input()), None, None, None\n",
    "\n",
    "# r = radius\n",
    "# d = diameter\n",
    "# c = circumference\n",
    "# a = area\n",
    "\n",
    "# Calculation of diameter, circumference and area\n",
    "d = 2 * r\n",
    "c = 2 * math.pi * r\n",
    "a = math.pi * (r * r)\n",
    "\n",
    "print(\"Diameter       = \", d, \"units\")\n",
    "print(\"Circumference  = \", c, \"units\")\n",
    "print(\"Area           = \", a, \" sq. units\")"
   ]
  },
  {
   "cell_type": "code",
   "execution_count": 2,
   "id": "c2f17127",
   "metadata": {},
   "outputs": [
    {
     "name": "stdout",
     "output_type": "stream",
     "text": [
      "ahmed ahmy\n"
     ]
    }
   ],
   "source": [
    "name = \"ahmed\" + \" \" + \"ahmy\"\n",
    "print(name)"
   ]
  },
  {
   "cell_type": "code",
   "execution_count": 11,
   "id": "b748f62d",
   "metadata": {},
   "outputs": [
    {
     "name": "stdout",
     "output_type": "stream",
     "text": [
      "ahmed ali\n"
     ]
    }
   ],
   "source": [
    "name = \"ahmed \" + \"ali\"\n",
    "print(name)"
   ]
  },
  {
   "cell_type": "code",
   "execution_count": null,
   "id": "35a2d56c",
   "metadata": {},
   "outputs": [],
   "source": []
  }
 ],
 "metadata": {
  "kernelspec": {
   "display_name": "Python 3",
   "language": "python",
   "name": "python3"
  },
  "language_info": {
   "codemirror_mode": {
    "name": "ipython",
    "version": 3
   },
   "file_extension": ".py",
   "mimetype": "text/x-python",
   "name": "python",
   "nbconvert_exporter": "python",
   "pygments_lexer": "ipython3",
   "version": "3.8.8"
  }
 },
 "nbformat": 4,
 "nbformat_minor": 5
}
